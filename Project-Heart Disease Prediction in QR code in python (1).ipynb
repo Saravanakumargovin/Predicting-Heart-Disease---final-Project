{
 "cells": [
  {
   "cell_type": "markdown",
   "id": "6a061611-e410-468e-b7af-8c2adf8eaf71",
   "metadata": {},
   "source": [
    "# Project-Heart Disease Prediction "
   ]
  },
  {
   "cell_type": "code",
   "execution_count": 1,
   "id": "22bc8b23-dae3-43ef-b548-9bfdf681f5e8",
   "metadata": {},
   "outputs": [
    {
     "name": "stdout",
     "output_type": "stream",
     "text": [
      "Requirement already satisfied: pyqrcode in c:\\users\\saravana\\anaconda3\\lib\\site-packages (1.2.1)\n"
     ]
    }
   ],
   "source": [
    "!pip install pyqrcode"
   ]
  },
  {
   "cell_type": "code",
   "execution_count": 3,
   "id": "2b6f650b-fe97-4061-8561-1f33710dd484",
   "metadata": {},
   "outputs": [],
   "source": [
    "import pyqrcode \n",
    "from pyqrcode import QRCode \n",
    "  \n",
    "# QR code \n",
    "s = \"https://github.com/Saravanakumargovin/Predicting-Heart-Disease---final-Project\"\n",
    "  \n",
    "# Generate QR code \n",
    "url = pyqrcode.create(s) \n",
    "  \n",
    "# Create and save the png file naming \"myqr.png\" # PNG & SVG both are same\n",
    "url.svg(\"mygithub.svg\", scale = 5)"
   ]
  },
  {
   "cell_type": "code",
   "execution_count": null,
   "id": "afa4494b-6cc9-4c2c-9bb3-bd59fafd003e",
   "metadata": {},
   "outputs": [],
   "source": []
  }
 ],
 "metadata": {
  "kernelspec": {
   "display_name": "Python 3 (ipykernel)",
   "language": "python",
   "name": "python3"
  },
  "language_info": {
   "codemirror_mode": {
    "name": "ipython",
    "version": 3
   },
   "file_extension": ".py",
   "mimetype": "text/x-python",
   "name": "python",
   "nbconvert_exporter": "python",
   "pygments_lexer": "ipython3",
   "version": "3.9.7"
  }
 },
 "nbformat": 4,
 "nbformat_minor": 5
}
